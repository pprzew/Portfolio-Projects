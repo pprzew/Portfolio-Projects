{
 "cells": [
  {
   "cell_type": "code",
   "execution_count": 8,
   "id": "2798c1ca",
   "metadata": {},
   "outputs": [],
   "source": [
    "from bs4 import BeautifulSoup\n",
    "import requests\n",
    "import time\n",
    "import datetime\n",
    "import csv\n",
    "import pandas as pd"
   ]
  },
  {
   "cell_type": "code",
   "execution_count": 24,
   "id": "a89b2fd4",
   "metadata": {},
   "outputs": [
    {
     "name": "stdout",
     "output_type": "stream",
     "text": [
      "        Sony WH-1000XM4 bezprzewodowe słuchawki Bluetooth z aktywną redukcją hałasu ANC, bateria 30 godz, sterowanie gestami, szybkie ładowanie, aplikacja na telefon, asystent głosowy (Alexa, Google), czarne       \n",
      "1 098,00zł\n"
     ]
    }
   ],
   "source": [
    "# Connect to the website\n",
    "\n",
    "url = 'https://www.amazon.pl/Sony-WH-1000XM4-bezprzewodowe-sluchawki-sterowanie/dp/B08C7KG5LP'\n",
    "headers = {\"User-Agent\": \"Mozilla/5.0 (Windows NT 10.0; Win64; x64) AppleWebKit/537.36 (KHTML, like Gecko) Chrome/108.0.0.0 Safari/537.36 OPR/94.0.0.0}\"}\n",
    "page = requests.get(url, headers=headers)\n",
    "\n",
    "soup1 = BeautifulSoup(page.content, \"html.parser\")\n",
    "soup2 = BeautifulSoup(soup1.prettify(), \"html.parser\")\n",
    "\n",
    "title = soup1.find(id='productTitle').get_text()\n",
    "price = soup1.find(class_='a-offscreen').get_text()\n",
    "\n",
    "print(title)\n",
    "print(price)"
   ]
  },
  {
   "cell_type": "code",
   "execution_count": 25,
   "id": "7a4c9a93",
   "metadata": {},
   "outputs": [
    {
     "name": "stdout",
     "output_type": "stream",
     "text": [
      "Sony WH-1000XM4\n",
      "1 098\n"
     ]
    }
   ],
   "source": [
    "price = price.strip()[:-5]\n",
    "title = title.strip()[:15]\n",
    "\n",
    "print(title)\n",
    "print(price)"
   ]
  },
  {
   "cell_type": "code",
   "execution_count": 26,
   "id": "79d8465f",
   "metadata": {},
   "outputs": [
    {
     "name": "stdout",
     "output_type": "stream",
     "text": [
      "1098\n"
     ]
    }
   ],
   "source": [
    "price = price.split()\n",
    "try:\n",
    "    price = price[0] + price[1]\n",
    "except IndexError:\n",
    "    price = price[0]\n",
    "print(price)"
   ]
  },
  {
   "cell_type": "code",
   "execution_count": 5,
   "id": "d14b336c",
   "metadata": {},
   "outputs": [
    {
     "name": "stdout",
     "output_type": "stream",
     "text": [
      "2023-01-03\n"
     ]
    }
   ],
   "source": [
    "today = datetime.date.today()\n",
    "print(today)"
   ]
  },
  {
   "cell_type": "code",
   "execution_count": 6,
   "id": "01bad298",
   "metadata": {},
   "outputs": [],
   "source": [
    "# Create the csv\n",
    "header = ['Product Name', 'Price', 'Date Collected']\n",
    "data = [title, price, today]\n",
    "\n",
    "with open(\"AmazonWebScraperDataset.csv\", 'w', newline='', encoding='UTF8') as f:\n",
    "    writer = csv.writer(f)\n",
    "    writer.writerow(header)\n",
    "    writer.writerow(data)"
   ]
  },
  {
   "cell_type": "code",
   "execution_count": null,
   "id": "ed356d87",
   "metadata": {},
   "outputs": [],
   "source": [
    "# Append data to the csv\n",
    "\n",
    "with open(\"AmazonWebScraperDataset.csv\", 'a', newline='', encoding='UTF8') as f:\n",
    "    writer = csv.writer(f)\n",
    "    writer.writerow(data)"
   ]
  },
  {
   "cell_type": "code",
   "execution_count": 27,
   "id": "88e01d1f",
   "metadata": {},
   "outputs": [],
   "source": [
    "# Creating a function that checks the current price and appends it to existing csv file\n",
    "\n",
    "def check_price():\n",
    "    url = 'https://www.amazon.pl/Sony-WH-1000XM4-bezprzewodowe-sluchawki-sterowanie/dp/B08C7KG5LP'\n",
    "    headers = {\"User-Agent\": \"Mozilla/5.0 (Windows NT 10.0; Win64; x64) AppleWebKit/537.36 (KHTML, like Gecko) Chrome/108.0.0.0 Safari/537.36 OPR/94.0.0.0}\"}\n",
    "    page = requests.get(url, headers=headers)\n",
    "\n",
    "    soup1 = BeautifulSoup(page.content, \"html.parser\")\n",
    "    soup2 = BeautifulSoup(soup1.prettify(), \"html.parser\")\n",
    "\n",
    "    title = soup1.find(id='productTitle').get_text()\n",
    "    price = soup1.find(class_='a-offscreen').get_text()\n",
    "    price = price.strip()[:5].split()\n",
    "    title = title.strip()[:15]\n",
    "    try:\n",
    "        price = price[0] + price[1]\n",
    "    except IndexError:\n",
    "        price = price[0]\n",
    "    today = datetime.date.today()\n",
    "    \n",
    "    header = ['Product Name', 'Price', 'Date Collected']\n",
    "    data = [title, price, today]\n",
    "    \n",
    "    with open(\"AmazonWebScraperDataset.csv\", 'a', newline='', encoding='UTF8') as f:\n",
    "        writer = csv.writer(f)\n",
    "        writer.writerow(data)"
   ]
  },
  {
   "cell_type": "code",
   "execution_count": 28,
   "id": "043e0faf",
   "metadata": {},
   "outputs": [],
   "source": [
    "check_price()"
   ]
  },
  {
   "cell_type": "code",
   "execution_count": null,
   "id": "eb381925",
   "metadata": {},
   "outputs": [],
   "source": [
    "# Creating while loop to check the price daily\n",
    "\n",
    "# while(True):\n",
    "#     check_price()\n",
    "#     time.sleep(86400)"
   ]
  },
  {
   "cell_type": "code",
   "execution_count": 29,
   "id": "d8a84df3",
   "metadata": {},
   "outputs": [
    {
     "name": "stdout",
     "output_type": "stream",
     "text": [
      "      Product Name  Price Date Collected\n",
      "0  Sony WH-1000XM4   1098     2023-01-03\n",
      "1  Sony WH-1000XM4   1048     2023-01-04\n"
     ]
    }
   ],
   "source": [
    "df = pd.read_csv(r'C:\\Users\\Piotr\\AmazonWebScraperDataset.csv')\n",
    "print(df)"
   ]
  }
 ],
 "metadata": {
  "kernelspec": {
   "display_name": "Python 3 (ipykernel)",
   "language": "python",
   "name": "python3"
  },
  "language_info": {
   "codemirror_mode": {
    "name": "ipython",
    "version": 3
   },
   "file_extension": ".py",
   "mimetype": "text/x-python",
   "name": "python",
   "nbconvert_exporter": "python",
   "pygments_lexer": "ipython3",
   "version": "3.9.13"
  }
 },
 "nbformat": 4,
 "nbformat_minor": 5
}
